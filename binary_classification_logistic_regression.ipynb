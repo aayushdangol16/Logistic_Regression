{
  "nbformat": 4,
  "nbformat_minor": 0,
  "metadata": {
    "colab": {
      "provenance": []
    },
    "kernelspec": {
      "name": "python3",
      "display_name": "Python 3"
    },
    "language_info": {
      "name": "python"
    }
  },
  "cells": [
    {
      "cell_type": "markdown",
      "source": [
        "# Load Module"
      ],
      "metadata": {
        "id": "6iQSp0p4735l"
      }
    },
    {
      "cell_type": "code",
      "execution_count": 123,
      "metadata": {
        "id": "hKtgfSqt3Dgp"
      },
      "outputs": [],
      "source": [
        "import torch\n",
        "import matplotlib.pyplot as plt\n",
        "from torchvision import datasets,transforms\n",
        "from sklearn.model_selection import train_test_split"
      ]
    },
    {
      "cell_type": "markdown",
      "source": [
        "# function to compare Manual calculate gradient with autograd gradient"
      ],
      "metadata": {
        "id": "sUmaPN1SEjLu"
      }
    },
    {
      "cell_type": "code",
      "source": [
        "def cmp(s,dt,t):\n",
        "  ex=torch.all(dt==t.grad).item()\n",
        "  app=torch.allclose(dt,t.grad)\n",
        "  maxdiff=(dt-t.grad).abs().max().item()\n",
        "  print(f\"{s:15s} | exact: {str(ex):5s} | approximate: {str(app):5s} | maxdiff: {maxdiff}\")"
      ],
      "metadata": {
        "id": "DV1enOBeEin4"
      },
      "execution_count": 124,
      "outputs": []
    },
    {
      "cell_type": "markdown",
      "source": [
        "# Download Dataset"
      ],
      "metadata": {
        "id": "MlnGit7577mW"
      }
    },
    {
      "cell_type": "code",
      "source": [
        "transform = transforms.Compose([transforms.ToTensor()])\n",
        "train_data = datasets.MNIST(root='./data', train=True, download=True, transform=transform)\n",
        "test_data = datasets.MNIST(root='./data', train=False, download=True, transform=transform)"
      ],
      "metadata": {
        "collapsed": true,
        "id": "Y789r26f3PVS"
      },
      "execution_count": 125,
      "outputs": []
    },
    {
      "cell_type": "markdown",
      "source": [
        "# Preprocess Data"
      ],
      "metadata": {
        "id": "JAiE2hn77_TY"
      }
    },
    {
      "cell_type": "code",
      "source": [
        "x_train=torch.cat([i[0] for i in train_data if i[1]==8 or i[1]==9],dim=0)\n",
        "y_train=torch.tensor([i[1] for i in train_data if i[1]==8 or i[1]==9]).unsqueeze(1)\n",
        "x_test=torch.cat([i[0] for i in test_data if i[1]==8 or i[1]==9],dim=0)\n",
        "y_test=torch.tensor([i[1] for i in test_data if i[1]==8 or i[1]==9]).unsqueeze(1)"
      ],
      "metadata": {
        "id": "pPUJXv_Q4J0N"
      },
      "execution_count": 126,
      "outputs": []
    },
    {
      "cell_type": "code",
      "source": [
        "x_train.shape,y_train.shape,x_test.shape,y_test.shape"
      ],
      "metadata": {
        "colab": {
          "base_uri": "https://localhost:8080/"
        },
        "id": "yD235e3S5cFW",
        "outputId": "70a66b5c-91f8-462f-e2ca-21b393d66551"
      },
      "execution_count": 127,
      "outputs": [
        {
          "output_type": "execute_result",
          "data": {
            "text/plain": [
              "(torch.Size([11800, 28, 28]),\n",
              " torch.Size([11800, 1]),\n",
              " torch.Size([1983, 28, 28]),\n",
              " torch.Size([1983, 1]))"
            ]
          },
          "metadata": {},
          "execution_count": 127
        }
      ]
    },
    {
      "cell_type": "code",
      "source": [
        "plt.imshow(x_train[3],cmap=\"gray\"),y_train[3]"
      ],
      "metadata": {
        "colab": {
          "base_uri": "https://localhost:8080/",
          "height": 447
        },
        "id": "GsBlGsno8PW7",
        "outputId": "23ef5485-193d-46b2-dc0a-20978d9b0e83"
      },
      "execution_count": 128,
      "outputs": [
        {
          "output_type": "execute_result",
          "data": {
            "text/plain": [
              "(<matplotlib.image.AxesImage at 0x7b9ef66c6b90>, tensor([9]))"
            ]
          },
          "metadata": {},
          "execution_count": 128
        },
        {
          "output_type": "display_data",
          "data": {
            "text/plain": [
              "<Figure size 640x480 with 1 Axes>"
            ],
            "image/png": "[encoded data removed]"
          },
          "metadata": {}
        }
      ]
    },
    {
      "cell_type": "code",
      "source": [
        "x_train=torch.flatten(x_train,1,2)\n",
        "x_test=torch.flatten(x_test,1,2)"
      ],
      "metadata": {
        "id": "yn-jr3ek5tgI"
      },
      "execution_count": 129,
      "outputs": []
    },
    {
      "cell_type": "code",
      "source": [
        "x_train.shape,y_train.shape,x_test.shape,y_test.shape"
      ],
      "metadata": {
        "colab": {
          "base_uri": "https://localhost:8080/"
        },
        "id": "eON6-pHe6BCm",
        "outputId": "2e7726ad-74fb-43bb-ef49-5d6bbbab1860"
      },
      "execution_count": 130,
      "outputs": [
        {
          "output_type": "execute_result",
          "data": {
            "text/plain": [
              "(torch.Size([11800, 784]),\n",
              " torch.Size([11800, 1]),\n",
              " torch.Size([1983, 784]),\n",
              " torch.Size([1983, 1]))"
            ]
          },
          "metadata": {},
          "execution_count": 130
        }
      ]
    },
    {
      "cell_type": "code",
      "source": [
        "y_train=torch.tensor([1 if i.item()==9 else 0 for i in y_train]).unsqueeze(1)\n",
        "y_test=torch.tensor([1 if i.item()==9 else 0 for i in y_test]).unsqueeze(1)"
      ],
      "metadata": {
        "id": "PNEK5EN96HFK"
      },
      "execution_count": 131,
      "outputs": []
    },
    {
      "cell_type": "code",
      "source": [
        "y_train.shape,y_test.shape"
      ],
      "metadata": {
        "colab": {
          "base_uri": "https://localhost:8080/"
        },
        "id": "CxhSvY0-6bAQ",
        "outputId": "8721f501-dedc-4d47-eb52-a6afc336b557"
      },
      "execution_count": 132,
      "outputs": [
        {
          "output_type": "execute_result",
          "data": {
            "text/plain": [
              "(torch.Size([11800, 1]), torch.Size([1983, 1]))"
            ]
          },
          "metadata": {},
          "execution_count": 132
        }
      ]
    },
    {
      "cell_type": "code",
      "source": [
        "x_train,x_val,y_train,y_val=train_test_split(x_train,y_train,test_size=0.2,random_state=42)"
      ],
      "metadata": {
        "id": "Cnd9w8x_6rTg"
      },
      "execution_count": 133,
      "outputs": []
    },
    {
      "cell_type": "code",
      "source": [
        "x_train.shape,y_train.shape,x_val.shape,y_val.shape"
      ],
      "metadata": {
        "colab": {
          "base_uri": "https://localhost:8080/"
        },
        "id": "EJKxT7Pc7lrf",
        "outputId": "f584d7f8-2ee0-4c89-d400-70bed64eef9e"
      },
      "execution_count": 134,
      "outputs": [
        {
          "output_type": "execute_result",
          "data": {
            "text/plain": [
              "(torch.Size([9440, 784]),\n",
              " torch.Size([9440, 1]),\n",
              " torch.Size([2360, 784]),\n",
              " torch.Size([2360, 1]))"
            ]
          },
          "metadata": {},
          "execution_count": 134
        }
      ]
    },
    {
      "cell_type": "markdown",
      "source": [
        "# Train and Validation"
      ],
      "metadata": {
        "id": "pIOQNiz88CwC"
      }
    },
    {
      "cell_type": "code",
      "source": [
        "weight=torch.randn(x_train.shape[1],1)*0.01\n",
        "weight.requires_grad_(True)\n",
        "bias=torch.randn(1,1,requires_grad=True)\n",
        "alpha=0.01"
      ],
      "metadata": {
        "id": "dEsecv3A8FO4"
      },
      "execution_count": 147,
      "outputs": []
    },
    {
      "cell_type": "code",
      "source": [
        "weight.grad,bias.grad"
      ],
      "metadata": {
        "colab": {
          "base_uri": "https://localhost:8080/"
        },
        "id": "YD2Lekgy27a2",
        "outputId": "cdcd36e9-f8db-4d77-8917-79ff8a4ccce8"
      },
      "execution_count": 148,
      "outputs": [
        {
          "output_type": "execute_result",
          "data": {
            "text/plain": [
              "(None, None)"
            ]
          },
          "metadata": {},
          "execution_count": 148
        }
      ]
    },
    {
      "cell_type": "code",
      "source": [
        "weight.shape,bias.shape"
      ],
      "metadata": {
        "colab": {
          "base_uri": "https://localhost:8080/"
        },
        "id": "6QFQh3Ka824A",
        "outputId": "3cedc4d1-1df9-414f-c585-e933a4b1f912"
      },
      "execution_count": 149,
      "outputs": [
        {
          "output_type": "execute_result",
          "data": {
            "text/plain": [
              "(torch.Size([784, 1]), torch.Size([1, 1]))"
            ]
          },
          "metadata": {},
          "execution_count": 149
        }
      ]
    },
    {
      "cell_type": "code",
      "source": [
        "def sigmoid(z):\n",
        "  return 1/(1+torch.exp(-z))"
      ],
      "metadata": {
        "id": "m-SH1cde89TF"
      },
      "execution_count": 150,
      "outputs": []
    },
    {
      "cell_type": "code",
      "source": [
        "z=x_train@weight+bias\n",
        "sig=sigmoid(z)\n",
        "loss=(-y_train*torch.log(sig)-(1-y_train)*torch.log(1-sig)).mean()\n",
        "loss.backward()\n",
        "dl_dsig=-(y_train-sig)/(sig*(1-sig))\n",
        "dl_dz=dl_dsig*(sig*(1-sig))\n",
        "dl_dw=(x_train.T@dl_dz)/x_train.shape[0]\n",
        "dl_db=dl_dz.mean()"
      ],
      "metadata": {
        "id": "JJ51kP-PBdqk"
      },
      "execution_count": 151,
      "outputs": []
    },
    {
      "cell_type": "code",
      "source": [
        "cmp(\"dl_dw\",dl_dw,weight)\n",
        "cmp(\"dl_db\",dl_db,bias)"
      ],
      "metadata": {
        "colab": {
          "base_uri": "https://localhost:8080/"
        },
        "id": "m8J0leisBmJo",
        "outputId": "6f518110-f76c-42e6-93dc-39adb2cdc140"
      },
      "execution_count": 152,
      "outputs": [
        {
          "output_type": "stream",
          "name": "stdout",
          "text": [
            "dl_dw           | exact: False | approximate: True  | maxdiff: 7.748603820800781e-07\n",
            "dl_db           | exact: True  | approximate: True  | maxdiff: 0.0\n"
          ]
        }
      ]
    },
    {
      "cell_type": "code",
      "source": [
        "weight=torch.randn(x_train.shape[1],1)*0.01\n",
        "weight.requires_grad_(False)\n",
        "bias=torch.randn(1,1,requires_grad=False)\n",
        "alpha=0.01"
      ],
      "metadata": {
        "id": "2qKJon7WBZNn"
      },
      "execution_count": 153,
      "outputs": []
    },
    {
      "cell_type": "code",
      "source": [
        "train_loss=[]\n",
        "val_loss=[]\n",
        "for i in range(1000):\n",
        "  z=x_train@weight+bias\n",
        "  sig=sigmoid(z)\n",
        "  loss=(-y_train*torch.log(sig)-(1-y_train)*torch.log(1-sig)).mean()\n",
        "  train_loss.append(loss.item())\n",
        "  dl_dsig=-(y_train-sig)/(sig*(1-sig))\n",
        "  dl_dz=dl_dsig*(sig*(1-sig))\n",
        "  dl_dw=(x_train.T@dl_dz)/x_train.shape[0]\n",
        "  dl_db=dl_dz.mean()\n",
        "\n",
        "  weight-=alpha*dl_dw\n",
        "  bias-=alpha*dl_db\n",
        "\n",
        "  # Validation\n",
        "  z=x_val@weight+bias\n",
        "  sig=sigmoid(z)\n",
        "  loss=(-y_val*torch.log(sig)-(1-y_val)*torch.log(1-sig)).mean()\n",
        "  val_loss.append(loss.item())"
      ],
      "metadata": {
        "id": "WeMK27py9Gjw"
      },
      "execution_count": 154,
      "outputs": []
    },
    {
      "cell_type": "code",
      "source": [
        "plt.plot(train_loss,label=\"Train Loss\")\n",
        "plt.plot(val_loss,label=\"Val Loss\")\n",
        "plt.legend()\n",
        "plt.show()"
      ],
      "metadata": {
        "colab": {
          "base_uri": "https://localhost:8080/",
          "height": 430
        },
        "id": "vuw5NP6bAqMI",
        "outputId": "31d5497e-0fda-41ff-abc9-d6509449ec9c"
      },
      "execution_count": 155,
      "outputs": [
        {
          "output_type": "display_data",
          "data": {
            "text/plain": [
              "<Figure size 640x480 with 1 Axes>"
            ],
            "image/png": "[encoded data removed]"
          },
          "metadata": {}
        }
      ]
    },
    {
      "cell_type": "markdown",
      "source": [
        "# Test"
      ],
      "metadata": {
        "id": "apfkw1-qA6fV"
      }
    },
    {
      "cell_type": "code",
      "source": [
        "z=x_test@weight+bias\n",
        "sig=sigmoid(z)\n",
        "sig=torch.tensor([1 if i.item()>0.5 else 0 for i in sig]).unsqueeze(1)\n",
        "result=(sig==y_test).sum()/y_test.shape[0]\n",
        "print(result.item())"
      ],
      "metadata": {
        "colab": {
          "base_uri": "https://localhost:8080/"
        },
        "id": "ipik-FerA7f2",
        "outputId": "4b707b7d-1b0f-4e9f-e37e-34b5ffefa468"
      },
      "execution_count": 156,
      "outputs": [
        {
          "output_type": "stream",
          "name": "stdout",
          "text": [
            "0.9631870985031128\n"
          ]
        }
      ]
    },
    {
      "cell_type": "markdown",
      "source": [
        "# Inference"
      ],
      "metadata": {
        "id": "vQIviA-8B_95"
      }
    },
    {
      "cell_type": "code",
      "source": [
        "plt.imshow(x_test[25].view(-1,28),cmap=\"gray\")"
      ],
      "metadata": {
        "colab": {
          "base_uri": "https://localhost:8080/",
          "height": 447
        },
        "id": "6JvUrk_HCBlZ",
        "outputId": "9b370713-a822-4d26-ef67-160b71f2c3d3"
      },
      "execution_count": 157,
      "outputs": [
        {
          "output_type": "execute_result",
          "data": {
            "text/plain": [
              "<matplotlib.image.AxesImage at 0x7b9ef66c4f70>"
            ]
          },
          "metadata": {},
          "execution_count": 157
        },
        {
          "output_type": "display_data",
          "data": {
            "text/plain": [
              "<Figure size 640x480 with 1 Axes>"
            ],
            "image/png": "[encoded data removed]"
          },
          "metadata": {}
        }
      ]
    },
    {
      "cell_type": "code",
      "source": [
        "z=x_test[25].unsqueeze(0)@weight+bias\n",
        "sig=sigmoid(z)\n",
        "if sig.item()>0.5:\n",
        "  print(\"9\")\n",
        "else:\n",
        "  print(\"8\")"
      ],
      "metadata": {
        "colab": {
          "base_uri": "https://localhost:8080/"
        },
        "id": "YW3Et4CTCN5I",
        "outputId": "4930d426-b5d4-4a13-cdb0-587f6367978c"
      },
      "execution_count": 158,
      "outputs": [
        {
          "output_type": "stream",
          "name": "stdout",
          "text": [
            "8\n"
          ]
        }
      ]
    }
  ]
}